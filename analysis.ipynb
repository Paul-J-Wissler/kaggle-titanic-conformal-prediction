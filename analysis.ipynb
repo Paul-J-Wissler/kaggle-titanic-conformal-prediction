{
 "cells": [
  {
   "cell_type": "code",
   "execution_count": 1,
   "metadata": {},
   "outputs": [],
   "source": [
    "from pathlib import Path\n",
    "\n",
    "train_path = Path(\"titanic-data\", \"train.csv\")\n",
    "test_path = Path(\"titanic-data\", \"test.csv\")"
   ]
  },
  {
   "cell_type": "code",
   "execution_count": 2,
   "metadata": {},
   "outputs": [
    {
     "data": {
      "text/html": [
       "<div>\n",
       "<style scoped>\n",
       "    .dataframe tbody tr th:only-of-type {\n",
       "        vertical-align: middle;\n",
       "    }\n",
       "\n",
       "    .dataframe tbody tr th {\n",
       "        vertical-align: top;\n",
       "    }\n",
       "\n",
       "    .dataframe thead th {\n",
       "        text-align: right;\n",
       "    }\n",
       "</style>\n",
       "<table border=\"1\" class=\"dataframe\">\n",
       "  <thead>\n",
       "    <tr style=\"text-align: right;\">\n",
       "      <th></th>\n",
       "      <th>PassengerId</th>\n",
       "      <th>Survived</th>\n",
       "      <th>Pclass</th>\n",
       "      <th>Age</th>\n",
       "      <th>SibSp</th>\n",
       "      <th>Parch</th>\n",
       "      <th>Fare</th>\n",
       "    </tr>\n",
       "  </thead>\n",
       "  <tbody>\n",
       "    <tr>\n",
       "      <th>count</th>\n",
       "      <td>891.000000</td>\n",
       "      <td>891.000000</td>\n",
       "      <td>891.000000</td>\n",
       "      <td>714.000000</td>\n",
       "      <td>891.000000</td>\n",
       "      <td>891.000000</td>\n",
       "      <td>891.000000</td>\n",
       "    </tr>\n",
       "    <tr>\n",
       "      <th>mean</th>\n",
       "      <td>446.000000</td>\n",
       "      <td>0.383838</td>\n",
       "      <td>2.308642</td>\n",
       "      <td>29.699118</td>\n",
       "      <td>0.523008</td>\n",
       "      <td>0.381594</td>\n",
       "      <td>32.204208</td>\n",
       "    </tr>\n",
       "    <tr>\n",
       "      <th>std</th>\n",
       "      <td>257.353842</td>\n",
       "      <td>0.486592</td>\n",
       "      <td>0.836071</td>\n",
       "      <td>14.526497</td>\n",
       "      <td>1.102743</td>\n",
       "      <td>0.806057</td>\n",
       "      <td>49.693429</td>\n",
       "    </tr>\n",
       "    <tr>\n",
       "      <th>min</th>\n",
       "      <td>1.000000</td>\n",
       "      <td>0.000000</td>\n",
       "      <td>1.000000</td>\n",
       "      <td>0.420000</td>\n",
       "      <td>0.000000</td>\n",
       "      <td>0.000000</td>\n",
       "      <td>0.000000</td>\n",
       "    </tr>\n",
       "    <tr>\n",
       "      <th>25%</th>\n",
       "      <td>223.500000</td>\n",
       "      <td>0.000000</td>\n",
       "      <td>2.000000</td>\n",
       "      <td>20.125000</td>\n",
       "      <td>0.000000</td>\n",
       "      <td>0.000000</td>\n",
       "      <td>7.910400</td>\n",
       "    </tr>\n",
       "    <tr>\n",
       "      <th>50%</th>\n",
       "      <td>446.000000</td>\n",
       "      <td>0.000000</td>\n",
       "      <td>3.000000</td>\n",
       "      <td>28.000000</td>\n",
       "      <td>0.000000</td>\n",
       "      <td>0.000000</td>\n",
       "      <td>14.454200</td>\n",
       "    </tr>\n",
       "    <tr>\n",
       "      <th>75%</th>\n",
       "      <td>668.500000</td>\n",
       "      <td>1.000000</td>\n",
       "      <td>3.000000</td>\n",
       "      <td>38.000000</td>\n",
       "      <td>1.000000</td>\n",
       "      <td>0.000000</td>\n",
       "      <td>31.000000</td>\n",
       "    </tr>\n",
       "    <tr>\n",
       "      <th>max</th>\n",
       "      <td>891.000000</td>\n",
       "      <td>1.000000</td>\n",
       "      <td>3.000000</td>\n",
       "      <td>80.000000</td>\n",
       "      <td>8.000000</td>\n",
       "      <td>6.000000</td>\n",
       "      <td>512.329200</td>\n",
       "    </tr>\n",
       "  </tbody>\n",
       "</table>\n",
       "</div>"
      ],
      "text/plain": [
       "       PassengerId    Survived      Pclass         Age       SibSp  \\\n",
       "count   891.000000  891.000000  891.000000  714.000000  891.000000   \n",
       "mean    446.000000    0.383838    2.308642   29.699118    0.523008   \n",
       "std     257.353842    0.486592    0.836071   14.526497    1.102743   \n",
       "min       1.000000    0.000000    1.000000    0.420000    0.000000   \n",
       "25%     223.500000    0.000000    2.000000   20.125000    0.000000   \n",
       "50%     446.000000    0.000000    3.000000   28.000000    0.000000   \n",
       "75%     668.500000    1.000000    3.000000   38.000000    1.000000   \n",
       "max     891.000000    1.000000    3.000000   80.000000    8.000000   \n",
       "\n",
       "            Parch        Fare  \n",
       "count  891.000000  891.000000  \n",
       "mean     0.381594   32.204208  \n",
       "std      0.806057   49.693429  \n",
       "min      0.000000    0.000000  \n",
       "25%      0.000000    7.910400  \n",
       "50%      0.000000   14.454200  \n",
       "75%      0.000000   31.000000  \n",
       "max      6.000000  512.329200  "
      ]
     },
     "execution_count": 2,
     "metadata": {},
     "output_type": "execute_result"
    }
   ],
   "source": [
    "import pandas as pd\n",
    "\n",
    "train_df = pd.read_csv(train_path)\n",
    "train_df.describe()"
   ]
  },
  {
   "cell_type": "code",
   "execution_count": 3,
   "metadata": {},
   "outputs": [
    {
     "data": {
      "text/plain": [
       "Index(['PassengerId', 'Survived', 'Pclass', 'Name', 'Sex', 'Age', 'SibSp',\n",
       "       'Parch', 'Ticket', 'Fare', 'Cabin', 'Embarked'],\n",
       "      dtype='object')"
      ]
     },
     "execution_count": 3,
     "metadata": {},
     "output_type": "execute_result"
    }
   ],
   "source": [
    "train_df.columns"
   ]
  },
  {
   "cell_type": "markdown",
   "metadata": {},
   "source": [
    "Data Dictionary provided here: https://www.kaggle.com/competitions/titanic/data?select=train.csv\n",
    "\n",
    "`Survived`: binary indicator of whether passenger (identified by `PassengerId` column) survived the Titanic tragedy\n",
    "\n",
    "`Pclass`: ticket class, where 1 is first class, 2 is second class, and 3 is third class.\n",
    "\n",
    "`Name`: Name of passenger\n",
    "\n",
    "`Sex`: sex of the passenger\n",
    "\n",
    "`Age`: age of the passenger\n",
    "\n",
    "`SibSp`: number of siblings or spouses aboard the Titanic\n",
    "\n",
    "`Parch`: number of parents or children aboard the Titanic\n",
    "\n",
    "`Ticket`: ticket number\n",
    "\n",
    "`Fare`: passeger fare\n",
    "\n",
    "`cabin`: cabin number\n",
    "\n",
    "`embarked`: port of embarkation\n",
    "\n",
    "I'm not a huge fan of these column names, so I'm going to rename them."
   ]
  },
  {
   "cell_type": "code",
   "execution_count": 4,
   "metadata": {},
   "outputs": [
    {
     "data": {
      "text/plain": [
       "Index(['passenger_id', 'did_survive', 'ticket_class', 'passenger_name', 'sex',\n",
       "       'age', 'sibling_spouse_count', 'parent_child_count', 'ticket_number',\n",
       "       'ticket_fare', 'cabin_number', 'embarkation_port'],\n",
       "      dtype='object')"
      ]
     },
     "execution_count": 4,
     "metadata": {},
     "output_type": "execute_result"
    }
   ],
   "source": [
    "def rename_columns(df: pd.DataFrame) -> pd.DataFrame:\n",
    "    \"Rename columns for my personal taste.\"\n",
    "    return df.rename(columns={\n",
    "        \"PassengerId\": \"passenger_id\",\n",
    "        \"Survived\": \"did_survive\",\n",
    "        \"Pclass\": \"ticket_class\",\n",
    "        \"Name\": \"passenger_name\",\n",
    "        \"Sex\": \"sex\",\n",
    "        \"Age\": \"age\",\n",
    "        \"SibSp\": \"sibling_spouse_count\",\n",
    "        \"Parch\": \"parent_child_count\",\n",
    "        \"Ticket\": \"ticket_number\",\n",
    "        \"Fare\": \"ticket_fare\",\n",
    "        \"Cabin\": \"cabin_number\",\n",
    "        \"Embarked\": \"embarkation_port\",\n",
    "    })\n",
    "\n",
    "def submission_rename(df: pd.DataFrame) -> pd.DataFrame:\n",
    "    \"\"\"A certain schema is expected for the submission, so this function will need to be run on whatever data I submit to Kaggle.\"\"\"\n",
    "    return df.rename(\n",
    "        columns={\n",
    "            \"did_survive\": \"Survived\",\n",
    "            \"passenger_id\": \"PassengerId\",\n",
    "        }\n",
    "    )[[\"PassengerId\", \"Survived\"]]\n",
    "\n",
    "train_df = rename_columns(train_df)\n",
    "train_df.columns"
   ]
  },
  {
   "cell_type": "markdown",
   "metadata": {},
   "source": [
    "There are a few columns right off the bat which I expect should have no predictive power: `passenger_name`, `passenger_id`, and `ticket_number`. It is plausible that `cabin_number` could have predictive power, but that might require spatial information about the titanic, so for now I'll also remove that. I'm not so certain about `embarkation_port`, so I'll at least take a look at the distribution there."
   ]
  },
  {
   "cell_type": "code",
   "execution_count": 5,
   "metadata": {},
   "outputs": [],
   "source": [
    "from plotnine import *"
   ]
  },
  {
   "cell_type": "code",
   "execution_count": 9,
   "metadata": {},
   "outputs": [
    {
     "data": {
      "text/html": [
       "<div>\n",
       "<style scoped>\n",
       "    .dataframe tbody tr th:only-of-type {\n",
       "        vertical-align: middle;\n",
       "    }\n",
       "\n",
       "    .dataframe tbody tr th {\n",
       "        vertical-align: top;\n",
       "    }\n",
       "\n",
       "    .dataframe thead th {\n",
       "        text-align: right;\n",
       "    }\n",
       "</style>\n",
       "<table border=\"1\" class=\"dataframe\">\n",
       "  <thead>\n",
       "    <tr style=\"text-align: right;\">\n",
       "      <th></th>\n",
       "      <th>survivors</th>\n",
       "      <th>passengers</th>\n",
       "      <th>survival_rate</th>\n",
       "    </tr>\n",
       "    <tr>\n",
       "      <th>embarkation_port</th>\n",
       "      <th></th>\n",
       "      <th></th>\n",
       "      <th></th>\n",
       "    </tr>\n",
       "  </thead>\n",
       "  <tbody>\n",
       "    <tr>\n",
       "      <th>C</th>\n",
       "      <td>93</td>\n",
       "      <td>168</td>\n",
       "      <td>0.553571</td>\n",
       "    </tr>\n",
       "    <tr>\n",
       "      <th>Q</th>\n",
       "      <td>30</td>\n",
       "      <td>77</td>\n",
       "      <td>0.389610</td>\n",
       "    </tr>\n",
       "    <tr>\n",
       "      <th>S</th>\n",
       "      <td>217</td>\n",
       "      <td>644</td>\n",
       "      <td>0.336957</td>\n",
       "    </tr>\n",
       "  </tbody>\n",
       "</table>\n",
       "</div>"
      ],
      "text/plain": [
       "                  survivors  passengers  survival_rate\n",
       "embarkation_port                                      \n",
       "C                        93         168       0.553571\n",
       "Q                        30          77       0.389610\n",
       "S                       217         644       0.336957"
      ]
     },
     "execution_count": 9,
     "metadata": {},
     "output_type": "execute_result"
    }
   ],
   "source": [
    "embark_survival_rates = train_df.groupby(\"embarkation_port\").did_survive.agg([\"sum\", \"count\"]).assign(survival_rate=lambda x: x[\"sum\"] / x[\"count\"])\n",
    "embark_survival_rates = embark_survival_rates.rename(columns={\"sum\": \"survivors\", \"count\": \"passengers\"})\n",
    "embark_survival_rates"
   ]
  },
  {
   "cell_type": "markdown",
   "metadata": {},
   "source": [
    "Curiously, It does seem that Cherbourg had a higher survival rate thatn Queenstown or Southampton. Is that difference significant?"
   ]
  },
  {
   "cell_type": "code",
   "execution_count": 20,
   "metadata": {},
   "outputs": [],
   "source": [
    "from statsmodels.stats.proportion import proportion_confint\n",
    "from mizani.formatters import percent_format"
   ]
  },
  {
   "cell_type": "code",
   "execution_count": 22,
   "metadata": {},
   "outputs": [
    {
     "data": {
      "text/html": [
       "<div>\n",
       "<style scoped>\n",
       "    .dataframe tbody tr th:only-of-type {\n",
       "        vertical-align: middle;\n",
       "    }\n",
       "\n",
       "    .dataframe tbody tr th {\n",
       "        vertical-align: top;\n",
       "    }\n",
       "\n",
       "    .dataframe thead th {\n",
       "        text-align: right;\n",
       "    }\n",
       "</style>\n",
       "<table border=\"1\" class=\"dataframe\">\n",
       "  <thead>\n",
       "    <tr style=\"text-align: right;\">\n",
       "      <th></th>\n",
       "      <th>survivors</th>\n",
       "      <th>passengers</th>\n",
       "      <th>survival_rate</th>\n",
       "      <th>lower</th>\n",
       "      <th>upper</th>\n",
       "    </tr>\n",
       "    <tr>\n",
       "      <th>embarkation_port</th>\n",
       "      <th></th>\n",
       "      <th></th>\n",
       "      <th></th>\n",
       "      <th></th>\n",
       "      <th></th>\n",
       "    </tr>\n",
       "  </thead>\n",
       "  <tbody>\n",
       "    <tr>\n",
       "      <th>C</th>\n",
       "      <td>93</td>\n",
       "      <td>168</td>\n",
       "      <td>0.553571</td>\n",
       "      <td>0.475048</td>\n",
       "      <td>0.630171</td>\n",
       "    </tr>\n",
       "    <tr>\n",
       "      <th>Q</th>\n",
       "      <td>30</td>\n",
       "      <td>77</td>\n",
       "      <td>0.389610</td>\n",
       "      <td>0.280462</td>\n",
       "      <td>0.507520</td>\n",
       "    </tr>\n",
       "    <tr>\n",
       "      <th>S</th>\n",
       "      <td>217</td>\n",
       "      <td>644</td>\n",
       "      <td>0.336957</td>\n",
       "      <td>0.300493</td>\n",
       "      <td>0.374923</td>\n",
       "    </tr>\n",
       "  </tbody>\n",
       "</table>\n",
       "</div>"
      ],
      "text/plain": [
       "                  survivors  passengers  survival_rate     lower     upper\n",
       "embarkation_port                                                          \n",
       "C                        93         168       0.553571  0.475048  0.630171\n",
       "Q                        30          77       0.389610  0.280462  0.507520\n",
       "S                       217         644       0.336957  0.300493  0.374923"
      ]
     },
     "execution_count": 22,
     "metadata": {},
     "output_type": "execute_result"
    }
   ],
   "source": [
    "lower, upper = proportion_confint(embark_survival_rates.survivors, embark_survival_rates.passengers, method=\"beta\", alpha=0.05)\n",
    "embark_survival_rates = embark_survival_rates.assign(lower=lower, upper=upper)\n",
    "embark_survival_rates"
   ]
  },
  {
   "cell_type": "code",
   "execution_count": 23,
   "metadata": {},
   "outputs": [
    {
     "data": {
      "image/png": "[encoded data removed]"
     },
     "metadata": {
      "image/png": {
       "height": 480,
       "width": 640
      }
     },
     "output_type": "display_data"
    }
   ],
   "source": [
    "embarkation_ci_fig = (\n",
    "    ggplot(embark_survival_rates.reset_index(), aes(x=\"embarkation_port\", y=\"survival_rate\", ymin=\"lower\", ymax=\"upper\"))\n",
    "    + geom_errorbar()\n",
    "    + geom_point()\n",
    "    + labs(\n",
    "        title=\"P[Survival | Embarkation Port]\",\n",
    "        subtitle=\"95% Binomial CI\",\n",
    "        y=\"Likelihood of Survival\",\n",
    "        x=\"Port of Embarkation\",\n",
    "    )\n",
    "    + scale_y_continuous(labels=percent_format())\n",
    ")\n",
    "embarkation_ci_fig.show()"
   ]
  },
  {
   "cell_type": "markdown",
   "metadata": {},
   "source": [
    "It does look like Port of Embarkation matters significantly when comparing `C` to `S` by about 20%, but it wouldn't surprise me if it correlates strongly with other features. We'll One Hot Encode this feature, though, and see how it appears in feature importance measures.\n",
    "\n",
    "For now, I'm also curious how `age`, `sibling_spouse_count`, `parent_child_count`, and `ticket_fare` correlate with survival. Let's try using point biserial correlation coefficient."
   ]
  },
  {
   "cell_type": "code",
   "execution_count": 33,
   "metadata": {},
   "outputs": [
    {
     "name": "stdout",
     "output_type": "stream",
     "text": [
      "Correlation between age and did_survive is 0.010539215871285632, with a p-value of 0.7534004969396125, which is not significant.\n",
      "Correlation between sibling_spouse_count and did_survive is -0.035322498885735625, with a p-value of 0.29224392869829086, which is not significant.\n",
      "Correlation between parent_child_count and did_survive is 0.08162940708348349, with a p-value of 0.014799245374727947, which is significant.\n",
      "Correlation between ticket_fare and did_survive is 0.25730652238496243, with a p-value of 6.1201893419246185e-15, which is significant.\n"
     ]
    }
   ],
   "source": [
    "from scipy.stats import pointbiserialr\n",
    "\n",
    "# train_df[[\"age\", \"sibling_spouse_count\", \"parent_child_count\", \"ticket_fare\", \"did_survive\"]].corr()\n",
    "y = \"did_survive\"\n",
    "X = [\"age\", \"sibling_spouse_count\", \"parent_child_count\", \"ticket_fare\"]\n",
    "for x in X:\n",
    "    stat, p = pointbiserialr(train_df[x].fillna(0), train_df[y])\n",
    "    is_significant_flag = \"not \" if p > 0.05 else \"\"\n",
    "    print(f\"Correlation between {x} and {y} is {stat}, with a p-value of {p}, which is {is_significant_flag}significant.\")"
   ]
  },
  {
   "cell_type": "markdown",
   "metadata": {},
   "source": [
    "So, generally, age doesn't matter, though that may be because only certain *extremes* in age matter. Similarly, sibling or spouse count doesn't matter. However, parent or child count *does* matter, though only slightly, as does ticket fare, though I would be surprised if ticket fare didn't correlate extremely with passenger class.\n",
    "\n",
    "I suspect that sex is important for the parent/child count flag to actually matter, and maybe age as well."
   ]
  }
 ],
 "metadata": {
  "kernelspec": {
   "display_name": "kaggle-titanic-conformal-prediction-uv6vZjWC-py3.11",
   "language": "python",
   "name": "python3"
  },
  "language_info": {
   "codemirror_mode": {
    "name": "ipython",
    "version": 3
   },
   "file_extension": ".py",
   "mimetype": "text/x-python",
   "name": "python",
   "nbconvert_exporter": "python",
   "pygments_lexer": "ipython3",
   "version": "3.11.9"
  }
 },
 "nbformat": 4,
 "nbformat_minor": 2
}
